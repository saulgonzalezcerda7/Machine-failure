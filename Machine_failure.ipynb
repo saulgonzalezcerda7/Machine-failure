{
 "cells": [
  {
   "cell_type": "code",
   "execution_count": 1,
   "id": "96c412d4-e9b4-46b0-a377-f98284519be6",
   "metadata": {},
   "outputs": [],
   "source": [
    "import pandas as pd\n",
    "import matplotlib.pyplot as plt\n",
    "import numpy as np\n",
    "import seaborn as sns"
   ]
  },
  {
   "cell_type": "code",
   "execution_count": 2,
   "id": "4ca7a9a9-08cd-49b3-b466-6ed2bf152579",
   "metadata": {},
   "outputs": [],
   "source": [
    "Mfail = pd.read_csv(\"machine_failure_dataset.csv\")"
   ]
  },
  {
   "cell_type": "markdown",
   "id": "5cc554e9-8d8a-45c0-aab5-69d256d8796c",
   "metadata": {},
   "source": [
    "# Entendimiento del problema"
   ]
  },
  {
   "cell_type": "markdown",
   "id": "b7100cd5-a9b3-49f8-b4b5-3bf973f21309",
   "metadata": {},
   "source": [
    "El dataset esta diseñado para predecir el riesgo de fallas de máquinas en entornos de fabricación industrial, utilizando datos de sensores en tiempo real de varios tipos de maquinaria. Incluye 1000 muestras que representan diferentes intervalos de tiempo de funcionamiento, y cada muestra proporciona mediciones clave de sensores relevantes para el monitoreo del estado de la máquinaria y el mantenimiento predictivo."
   ]
  },
  {
   "cell_type": "markdown",
   "id": "8b8e120d-bb6c-4042-914b-c34171a35b08",
   "metadata": {},
   "source": [
    "## Caracteristicas de los datos\n",
    "\n",
    "Temperature (°C): Datos continuos que representan la temperatura en los puntos criticos de la máquina. \\\n",
    "Nota: Las temperaturas altas pueden indicar problemas por sobrecalentamiento.\n",
    "\n",
    "Vibration (Hz): Frecuencia de las vibraciones. \\\n",
    "Nota: Las vibraciones anormales pueden indicar desalineación mecánica, desequilibrio o desgaste.\n",
    "\n",
    "Power Usage (kW): Niveles  del consumo de energía de la máquina.\\\n",
    "Nota: Los picos en el uso de enrgía pueden indicar una mayor carga o posibles problemas mecánicos.\n",
    "\n",
    "Humidity (%): Humedad ambiental alrededor de la maquina. \\\n",
    "Nota: Los altos niveles de humedad podrían afectar el rendimiento de la máquina y provocar fallas con el tiempo.\n",
    "\n",
    "Machine Type: Datos categóricos que indican el tipo de máquina (e.g., \"Drill\", \"Lathe\", \"Mill\"). \\\n",
    "Nota: Los diferentes tipos de máquinas pueden tener patrones de falla únicos.\n",
    "\n",
    "Failure Risk: Es una etiqueta binaria donde 0 indica un funcionamiento normal y 1 indica que la máquina corre el riesgo de fallar.\n",
    "\n"
   ]
  },
  {
   "cell_type": "markdown",
   "id": "6ec41c4b-fb09-4291-84c8-f5ef4d1e974d",
   "metadata": {},
   "source": [
    "## Pregunta a resolver\n",
    "\n",
    "- Desarrollar un modelo predictivo que ayude a detectar fallas \n",
    "- Explorar tendencias en la lectura de sensores asociadas con eventos de falla \n",
    "- Comprender el impacto de diferentes características en el estado de la máquina"
   ]
  },
  {
   "cell_type": "markdown",
   "id": "bc5e48b2-2a66-406a-a987-642274321b31",
   "metadata": {},
   "source": [
    "# Exploración inicial de datos (EDA)"
   ]
  },
  {
   "cell_type": "code",
   "execution_count": 3,
   "id": "2c7a1cd8-bca0-45cb-a42c-dbb8a9780802",
   "metadata": {},
   "outputs": [
    {
     "data": {
      "text/html": [
       "<div>\n",
       "<style scoped>\n",
       "    .dataframe tbody tr th:only-of-type {\n",
       "        vertical-align: middle;\n",
       "    }\n",
       "\n",
       "    .dataframe tbody tr th {\n",
       "        vertical-align: top;\n",
       "    }\n",
       "\n",
       "    .dataframe thead th {\n",
       "        text-align: right;\n",
       "    }\n",
       "</style>\n",
       "<table border=\"1\" class=\"dataframe\">\n",
       "  <thead>\n",
       "    <tr style=\"text-align: right;\">\n",
       "      <th></th>\n",
       "      <th>Temperature</th>\n",
       "      <th>Vibration</th>\n",
       "      <th>Power_Usage</th>\n",
       "      <th>Humidity</th>\n",
       "      <th>Machine_Type</th>\n",
       "      <th>Failure_Risk</th>\n",
       "    </tr>\n",
       "  </thead>\n",
       "  <tbody>\n",
       "    <tr>\n",
       "      <th>0</th>\n",
       "      <td>74.967142</td>\n",
       "      <td>56.996777</td>\n",
       "      <td>8.649643</td>\n",
       "      <td>20.460962</td>\n",
       "      <td>Mill</td>\n",
       "      <td>1</td>\n",
       "    </tr>\n",
       "    <tr>\n",
       "      <th>1</th>\n",
       "      <td>68.617357</td>\n",
       "      <td>54.623168</td>\n",
       "      <td>9.710963</td>\n",
       "      <td>25.698075</td>\n",
       "      <td>Lathe</td>\n",
       "      <td>0</td>\n",
       "    </tr>\n",
       "    <tr>\n",
       "      <th>2</th>\n",
       "      <td>76.476885</td>\n",
       "      <td>50.298152</td>\n",
       "      <td>8.415160</td>\n",
       "      <td>27.931972</td>\n",
       "      <td>Drill</td>\n",
       "      <td>1</td>\n",
       "    </tr>\n",
       "    <tr>\n",
       "      <th>3</th>\n",
       "      <td>85.230299</td>\n",
       "      <td>46.765316</td>\n",
       "      <td>9.384077</td>\n",
       "      <td>39.438438</td>\n",
       "      <td>Lathe</td>\n",
       "      <td>1</td>\n",
       "    </tr>\n",
       "    <tr>\n",
       "      <th>4</th>\n",
       "      <td>67.658466</td>\n",
       "      <td>53.491117</td>\n",
       "      <td>6.212771</td>\n",
       "      <td>32.782766</td>\n",
       "      <td>Drill</td>\n",
       "      <td>1</td>\n",
       "    </tr>\n",
       "  </tbody>\n",
       "</table>\n",
       "</div>"
      ],
      "text/plain": [
       "   Temperature  Vibration  Power_Usage   Humidity Machine_Type  Failure_Risk\n",
       "0    74.967142  56.996777     8.649643  20.460962         Mill             1\n",
       "1    68.617357  54.623168     9.710963  25.698075        Lathe             0\n",
       "2    76.476885  50.298152     8.415160  27.931972        Drill             1\n",
       "3    85.230299  46.765316     9.384077  39.438438        Lathe             1\n",
       "4    67.658466  53.491117     6.212771  32.782766        Drill             1"
      ]
     },
     "execution_count": 3,
     "metadata": {},
     "output_type": "execute_result"
    }
   ],
   "source": [
    "Mfail.head()"
   ]
  },
  {
   "cell_type": "code",
   "execution_count": 4,
   "id": "f24ed3dd-7a6d-44d8-9ea9-dd31ae1c10a7",
   "metadata": {},
   "outputs": [
    {
     "name": "stdout",
     "output_type": "stream",
     "text": [
      "<class 'pandas.core.frame.DataFrame'>\n",
      "RangeIndex: 1000 entries, 0 to 999\n",
      "Data columns (total 6 columns):\n",
      " #   Column        Non-Null Count  Dtype  \n",
      "---  ------        --------------  -----  \n",
      " 0   Temperature   1000 non-null   float64\n",
      " 1   Vibration     1000 non-null   float64\n",
      " 2   Power_Usage   1000 non-null   float64\n",
      " 3   Humidity      1000 non-null   float64\n",
      " 4   Machine_Type  1000 non-null   object \n",
      " 5   Failure_Risk  1000 non-null   int64  \n",
      "dtypes: float64(4), int64(1), object(1)\n",
      "memory usage: 47.0+ KB\n"
     ]
    }
   ],
   "source": [
    "Mfail.info()"
   ]
  },
  {
   "cell_type": "markdown",
   "id": "51dcbac0-dee4-4162-9ed3-95f168568405",
   "metadata": {},
   "source": [
    "En este set de datos podemos encontrar datos flotantes, enteros y objetos dentro de 6 columnas. Algo que ya se esperaba tomando en cuenta la descripción acerca del dataset, sin embargo, se observa que no existen valores nulos dentro del mismo."
   ]
  },
  {
   "cell_type": "code",
   "execution_count": 5,
   "id": "bd386ea3-7ec7-44d3-a5ba-cfe4816f4b4e",
   "metadata": {},
   "outputs": [
    {
     "data": {
      "text/html": [
       "<div>\n",
       "<style scoped>\n",
       "    .dataframe tbody tr th:only-of-type {\n",
       "        vertical-align: middle;\n",
       "    }\n",
       "\n",
       "    .dataframe tbody tr th {\n",
       "        vertical-align: top;\n",
       "    }\n",
       "\n",
       "    .dataframe thead th {\n",
       "        text-align: right;\n",
       "    }\n",
       "</style>\n",
       "<table border=\"1\" class=\"dataframe\">\n",
       "  <thead>\n",
       "    <tr style=\"text-align: right;\">\n",
       "      <th></th>\n",
       "      <th>Temperature</th>\n",
       "      <th>Vibration</th>\n",
       "      <th>Power_Usage</th>\n",
       "      <th>Humidity</th>\n",
       "      <th>Failure_Risk</th>\n",
       "    </tr>\n",
       "  </thead>\n",
       "  <tbody>\n",
       "    <tr>\n",
       "      <th>count</th>\n",
       "      <td>1000.000000</td>\n",
       "      <td>1000.000000</td>\n",
       "      <td>1000.000000</td>\n",
       "      <td>1000.000000</td>\n",
       "      <td>1000.000000</td>\n",
       "    </tr>\n",
       "    <tr>\n",
       "      <th>mean</th>\n",
       "      <td>70.193321</td>\n",
       "      <td>50.354181</td>\n",
       "      <td>10.011668</td>\n",
       "      <td>29.906404</td>\n",
       "      <td>0.300000</td>\n",
       "    </tr>\n",
       "    <tr>\n",
       "      <th>std</th>\n",
       "      <td>9.792159</td>\n",
       "      <td>4.987272</td>\n",
       "      <td>1.966909</td>\n",
       "      <td>5.135663</td>\n",
       "      <td>0.458487</td>\n",
       "    </tr>\n",
       "    <tr>\n",
       "      <th>min</th>\n",
       "      <td>37.587327</td>\n",
       "      <td>35.298057</td>\n",
       "      <td>3.960976</td>\n",
       "      <td>15.352757</td>\n",
       "      <td>0.000000</td>\n",
       "    </tr>\n",
       "    <tr>\n",
       "      <th>25%</th>\n",
       "      <td>63.524097</td>\n",
       "      <td>46.968792</td>\n",
       "      <td>8.704001</td>\n",
       "      <td>26.312898</td>\n",
       "      <td>0.000000</td>\n",
       "    </tr>\n",
       "    <tr>\n",
       "      <th>50%</th>\n",
       "      <td>70.253006</td>\n",
       "      <td>50.315386</td>\n",
       "      <td>9.999498</td>\n",
       "      <td>30.000923</td>\n",
       "      <td>0.000000</td>\n",
       "    </tr>\n",
       "    <tr>\n",
       "      <th>75%</th>\n",
       "      <td>76.479439</td>\n",
       "      <td>53.644411</td>\n",
       "      <td>11.321831</td>\n",
       "      <td>33.334727</td>\n",
       "      <td>1.000000</td>\n",
       "    </tr>\n",
       "    <tr>\n",
       "      <th>max</th>\n",
       "      <td>108.527315</td>\n",
       "      <td>65.965538</td>\n",
       "      <td>17.852475</td>\n",
       "      <td>46.215465</td>\n",
       "      <td>1.000000</td>\n",
       "    </tr>\n",
       "  </tbody>\n",
       "</table>\n",
       "</div>"
      ],
      "text/plain": [
       "       Temperature    Vibration  Power_Usage     Humidity  Failure_Risk\n",
       "count  1000.000000  1000.000000  1000.000000  1000.000000   1000.000000\n",
       "mean     70.193321    50.354181    10.011668    29.906404      0.300000\n",
       "std       9.792159     4.987272     1.966909     5.135663      0.458487\n",
       "min      37.587327    35.298057     3.960976    15.352757      0.000000\n",
       "25%      63.524097    46.968792     8.704001    26.312898      0.000000\n",
       "50%      70.253006    50.315386     9.999498    30.000923      0.000000\n",
       "75%      76.479439    53.644411    11.321831    33.334727      1.000000\n",
       "max     108.527315    65.965538    17.852475    46.215465      1.000000"
      ]
     },
     "execution_count": 5,
     "metadata": {},
     "output_type": "execute_result"
    }
   ],
   "source": [
    "Mfail.describe()"
   ]
  },
  {
   "cell_type": "markdown",
   "id": "42984506-d951-4a9b-9859-051eb8831541",
   "metadata": {},
   "source": [
    "En un análisis rápido, se logra observar que existen outliers en las columnas: Temperature, Vibration, Power_Usage y Humidity. Esto se puede ser causado cuando alguna de las maquinas presenta alguna falla. Por otro lado, observando la media de Failure_Risk (0.300000) se llego a la conclusión de que la probabilidad de que ocurra una falla es del 30%."
   ]
  },
  {
   "cell_type": "markdown",
   "id": "b0d98322-af76-4e61-b449-c368f3ef6817",
   "metadata": {},
   "source": [
    "## Detección de Outliers"
   ]
  },
  {
   "cell_type": "markdown",
   "id": "9d119f56-2e19-4bd2-bd0a-2fdc17bb2523",
   "metadata": {},
   "source": [
    "En esta parte se va a analizar si los Outliers son relevantes, o si es posible eliminarlos para un mejor analisis."
   ]
  },
  {
   "cell_type": "code",
   "execution_count": 6,
   "id": "773602b7-75b3-4bec-9349-60192452a532",
   "metadata": {},
   "outputs": [],
   "source": [
    "def detec_outliers(df, column):\n",
    "    Q1 = df[column].quantile(0.25)\n",
    "    Q3 = df[column].quantile(0.75)\n",
    "    IQR = Q3 - Q1\n",
    "    lim_inf = Q1 - 1.5*IQR\n",
    "    lim_sup = Q3 + 1.5*IQR\n",
    "    \n",
    "    outliers = df[(df[column] < lim_inf) | (df[column] > lim_sup)]\n",
    "    return outliers\n"
   ]
  },
  {
   "cell_type": "code",
   "execution_count": 7,
   "id": "5b2dd56c-ee19-4464-9684-3717f5e2d77a",
   "metadata": {},
   "outputs": [
    {
     "name": "stdout",
     "output_type": "stream",
     "text": [
      "Outliers en Temperature: 8 valores\n",
      "Outliers en Vibration: 8 valores\n",
      "Outliers en Power_Usage: 10 valores\n",
      "Outliers en Humidity: 5 valores\n"
     ]
    }
   ],
   "source": [
    "for col in Mfail.select_dtypes(include=\"float64\").columns:\n",
    "    outliers = detec_outliers(Mfail, col)\n",
    "    print(f\"Outliers en {col}: {len(outliers)} valores\")"
   ]
  },
  {
   "cell_type": "code",
   "execution_count": 8,
   "id": "d9c70a11-28bf-46cc-81d2-4b11f43c7003",
   "metadata": {
    "scrolled": true
   },
   "outputs": [
    {
     "name": "stdout",
     "output_type": "stream",
     "text": [
      "\n",
      "Outliers en Temperature:\n",
      "     Temperature\n",
      "74     43.802549\n",
      "179    97.201692\n",
      "209   108.527315\n",
      "262    37.587327\n",
      "478   100.788808\n",
      "646    43.031134\n",
      "668    43.490302\n",
      "755    96.323821\n",
      "\n",
      "Outliers en Vibration:\n",
      "     Vibration\n",
      "61   35.757287\n",
      "101  35.518723\n",
      "539  35.638689\n",
      "591  35.393248\n",
      "615  65.965538\n",
      "750  36.483839\n",
      "957  65.688743\n",
      "971  35.298057\n",
      "\n",
      "Outliers en Power_Usage:\n",
      "     Power_Usage\n",
      "24      3.960976\n",
      "35     15.519320\n",
      "305    16.219837\n",
      "506    15.898189\n",
      "521    15.970518\n",
      "556     4.728505\n",
      "801    15.386067\n",
      "884     4.504990\n",
      "895    17.852475\n",
      "947     4.017728\n",
      "\n",
      "Outliers en Humidity:\n",
      "      Humidity\n",
      "152  15.465059\n",
      "241  44.342015\n",
      "454  15.352757\n",
      "716  46.215465\n",
      "982  45.760284\n"
     ]
    }
   ],
   "source": [
    "for col in Mfail.select_dtypes(include=\"float64\").columns:\n",
    "    outliers = detec_outliers(Mfail, col)\n",
    "    print(f\"\\nOutliers en {col}:\")\n",
    "    print(outliers[[col]])  # Mostrar solo la columna con outliers\n",
    "\n"
   ]
  },
  {
   "cell_type": "code",
   "execution_count": 9,
   "id": "8260975d-7399-4c47-8e2a-833be55aa0a1",
   "metadata": {},
   "outputs": [
    {
     "name": "stdout",
     "output_type": "stream",
     "text": [
      "\n",
      "Outliers en Temperature (Total: 8)\n",
      "     Temperature  Vibration  Power_Usage   Humidity Machine_Type  Failure_Risk\n",
      "74     43.802549  54.981334     8.764696  26.334835        Lathe             0\n",
      "179    97.201692  44.482053    10.013600  32.578140         Mill             1\n",
      "209   108.527315  58.747884     9.998583  32.256127         Mill             0\n",
      "262    37.587327  52.693780    12.471564  25.476928        Drill             1\n",
      "478   100.788808  45.562539     7.322788  35.767952        Lathe             0\n",
      "646    43.031134  49.064279     9.258984  31.293306        Lathe             0\n",
      "668    43.490302  54.203100    11.104600  29.289267        Drill             1\n",
      "755    96.323821  56.868293     9.096681  20.155384         Mill             0\n",
      "\n",
      "Outliers en Vibration (Total: 8)\n",
      "     Temperature  Vibration  Power_Usage   Humidity Machine_Type  Failure_Risk\n",
      "61     68.143410  35.757287     9.725256  28.335698         Mill             0\n",
      "101    65.793547  35.518723     8.195897  34.277778         Mill             0\n",
      "539    64.231081  35.638689    10.109868  29.198200        Drill             0\n",
      "591    65.223426  35.393248     9.085397  33.020604        Drill             1\n",
      "615    71.292212  65.965538    11.336681  33.673188        Drill             0\n",
      "750    60.767668  36.483839    13.510951  27.070362         Mill             0\n",
      "957    74.567532  65.688743     9.526889  28.802490         Mill             1\n",
      "971    63.189483  35.298057     9.862732  24.488651        Drill             1\n",
      "\n",
      "Outliers en Power_Usage (Total: 10)\n",
      "     Temperature  Vibration  Power_Usage   Humidity Machine_Type  Failure_Risk\n",
      "24     64.556173  58.637716     3.960976  20.651291        Drill             0\n",
      "35     57.791564  57.869934    15.519320  32.234363        Drill             1\n",
      "305    71.173274  45.507660    16.219837  35.306855        Drill             0\n",
      "506    64.076061  53.481937    15.898189  31.614873         Mill             0\n",
      "521    75.433602  52.910489    15.970518  17.533646        Lathe             1\n",
      "556    65.123938  54.567923     4.728505  33.202715         Mill             0\n",
      "801    64.839553  49.696696    15.386067  21.998644         Mill             0\n",
      "884    76.818915  49.867971     4.504990  29.679611         Mill             1\n",
      "895    76.487099  48.149945    17.852475  35.008159        Lathe             0\n",
      "947    63.080919  49.853686     4.017728  32.140931         Mill             0\n",
      "\n",
      "Outliers en Humidity (Total: 5)\n",
      "     Temperature  Vibration  Power_Usage   Humidity Machine_Type  Failure_Risk\n",
      "152    63.199753  46.805191    10.041773  15.465059        Lathe             0\n",
      "241    68.852636  48.982098    11.168826  44.342015         Mill             0\n",
      "454    64.697424  52.827548    11.364104  15.352757        Drill             0\n",
      "716    71.142276  51.659902    11.251016  46.215465        Lathe             0\n",
      "982    60.330239  46.866414    11.464984  45.760284        Drill             1\n"
     ]
    }
   ],
   "source": [
    "for col in Mfail.select_dtypes(include=\"float64\").columns:\n",
    "    outliers = detec_outliers(Mfail, col)\n",
    "    print(f\"\\nOutliers en {col} (Total: {len(outliers)})\")\n",
    "    print(outliers)  # Mostrar todas las columnas de las filas con outliers\n"
   ]
  },
  {
   "cell_type": "markdown",
   "id": "d7c0fef5-0a0e-4e91-8d07-1e592ff8bcb2",
   "metadata": {},
   "source": [
    "En estos outliers se encuentra información algo util, ya que existen datos donde la maquina falla y es suficiente para no quitarlos del analisis aunque por si solos no nos dan un analisis contundente."
   ]
  },
  {
   "cell_type": "markdown",
   "id": "1ef02f6f-9aac-4da1-afeb-827d59f8c96d",
   "metadata": {},
   "source": [
    "# Análisis univariado"
   ]
  },
  {
   "cell_type": "markdown",
   "id": "be8809ef-5917-4fff-ada7-7bf4e5ec3063",
   "metadata": {},
   "source": [
    "## Variables númericas"
   ]
  },
  {
   "cell_type": "code",
   "execution_count": 10,
   "id": "dc0a5107-feee-4753-8be5-140b53816591",
   "metadata": {
    "scrolled": true
   },
   "outputs": [
    {
     "data": {
      "image/png": "[encoded data removed]",
      "text/plain": [
       "<Figure size 800x500 with 1 Axes>"
      ]
     },
     "metadata": {},
     "output_type": "display_data"
    },
    {
     "data": {
      "image/png": "[encoded data removed]",
      "text/plain": [
       "<Figure size 800x500 with 1 Axes>"
      ]
     },
     "metadata": {},
     "output_type": "display_data"
    },
    {
     "data": {
      "image/png": "[encoded data removed]",
      "text/plain": [
       "<Figure size 800x500 with 1 Axes>"
      ]
     },
     "metadata": {},
     "output_type": "display_data"
    },
    {
     "data": {
      "image/png": "[encoded data removed]",
      "text/plain": [
       "<Figure size 800x500 with 1 Axes>"
      ]
     },
     "metadata": {},
     "output_type": "display_data"
    },
    {
     "data": {
      "image/png": "[encoded data removed]",
      "text/plain": [
       "<Figure size 800x500 with 1 Axes>"
      ]
     },
     "metadata": {},
     "output_type": "display_data"
    }
   ],
   "source": [
    "for caracteristica in Mfail.select_dtypes(include='number').columns:\n",
    "    plt.figure(figsize=(8, 5))\n",
    "    sns.histplot(Mfail[caracteristica], bins=30, kde=True)\n",
    "    plt.title(f\"Histograma {caracteristica}\")\n",
    "    plt.xlabel(caracteristica)\n",
    "    plt.show()"
   ]
  },
  {
   "cell_type": "code",
   "execution_count": 11,
   "id": "9e96550b-6f4b-456e-be9e-2bc51b729b89",
   "metadata": {},
   "outputs": [
    {
     "data": {
      "image/png": "[encoded data removed]",
      "text/plain": [
       "<Figure size 1000x600 with 1 Axes>"
      ]
     },
     "metadata": {},
     "output_type": "display_data"
    }
   ],
   "source": [
    "plt.figure(figsize=(10, 6))\n",
    "sns.boxplot(data=Mfail.select_dtypes(include=[\"float64\", \"int64\"]))\n",
    "plt.xticks(rotation=45)\n",
    "plt.title(\"Distribución de variables numéricas\")\n",
    "plt.show()\n"
   ]
  },
  {
   "cell_type": "markdown",
   "id": "e879b453-983b-41ec-b3f4-681239976682",
   "metadata": {},
   "source": [
    "# Análisis Bivariado"
   ]
  },
  {
   "cell_type": "markdown",
   "id": "26a458f4-f640-4145-8285-5b2d6424b49e",
   "metadata": {},
   "source": [
    "Primero vamos a considerar columnas numéricas, esto para evitar errores."
   ]
  },
  {
   "cell_type": "code",
   "execution_count": 12,
   "id": "e64bc2e4-3536-4b5a-ac2b-43767ab2d251",
   "metadata": {},
   "outputs": [
    {
     "data": {
      "text/html": [
       "<div>\n",
       "<style scoped>\n",
       "    .dataframe tbody tr th:only-of-type {\n",
       "        vertical-align: middle;\n",
       "    }\n",
       "\n",
       "    .dataframe tbody tr th {\n",
       "        vertical-align: top;\n",
       "    }\n",
       "\n",
       "    .dataframe thead th {\n",
       "        text-align: right;\n",
       "    }\n",
       "</style>\n",
       "<table border=\"1\" class=\"dataframe\">\n",
       "  <thead>\n",
       "    <tr style=\"text-align: right;\">\n",
       "      <th></th>\n",
       "      <th>Temperature</th>\n",
       "      <th>Vibration</th>\n",
       "      <th>Power_Usage</th>\n",
       "      <th>Humidity</th>\n",
       "      <th>Failure_Risk</th>\n",
       "    </tr>\n",
       "  </thead>\n",
       "  <tbody>\n",
       "    <tr>\n",
       "      <th>0</th>\n",
       "      <td>74.967142</td>\n",
       "      <td>56.996777</td>\n",
       "      <td>8.649643</td>\n",
       "      <td>20.460962</td>\n",
       "      <td>1</td>\n",
       "    </tr>\n",
       "    <tr>\n",
       "      <th>1</th>\n",
       "      <td>68.617357</td>\n",
       "      <td>54.623168</td>\n",
       "      <td>9.710963</td>\n",
       "      <td>25.698075</td>\n",
       "      <td>0</td>\n",
       "    </tr>\n",
       "    <tr>\n",
       "      <th>2</th>\n",
       "      <td>76.476885</td>\n",
       "      <td>50.298152</td>\n",
       "      <td>8.415160</td>\n",
       "      <td>27.931972</td>\n",
       "      <td>1</td>\n",
       "    </tr>\n",
       "    <tr>\n",
       "      <th>3</th>\n",
       "      <td>85.230299</td>\n",
       "      <td>46.765316</td>\n",
       "      <td>9.384077</td>\n",
       "      <td>39.438438</td>\n",
       "      <td>1</td>\n",
       "    </tr>\n",
       "    <tr>\n",
       "      <th>4</th>\n",
       "      <td>67.658466</td>\n",
       "      <td>53.491117</td>\n",
       "      <td>6.212771</td>\n",
       "      <td>32.782766</td>\n",
       "      <td>1</td>\n",
       "    </tr>\n",
       "    <tr>\n",
       "      <th>...</th>\n",
       "      <td>...</td>\n",
       "      <td>...</td>\n",
       "      <td>...</td>\n",
       "      <td>...</td>\n",
       "      <td>...</td>\n",
       "    </tr>\n",
       "    <tr>\n",
       "      <th>995</th>\n",
       "      <td>67.188997</td>\n",
       "      <td>55.350751</td>\n",
       "      <td>10.154961</td>\n",
       "      <td>30.142288</td>\n",
       "      <td>1</td>\n",
       "    </tr>\n",
       "    <tr>\n",
       "      <th>996</th>\n",
       "      <td>87.976865</td>\n",
       "      <td>49.867394</td>\n",
       "      <td>10.515505</td>\n",
       "      <td>19.610941</td>\n",
       "      <td>0</td>\n",
       "    </tr>\n",
       "    <tr>\n",
       "      <th>997</th>\n",
       "      <td>76.408429</td>\n",
       "      <td>45.590627</td>\n",
       "      <td>7.516479</td>\n",
       "      <td>28.398511</td>\n",
       "      <td>0</td>\n",
       "    </tr>\n",
       "    <tr>\n",
       "      <th>998</th>\n",
       "      <td>64.288210</td>\n",
       "      <td>49.184665</td>\n",
       "      <td>10.668353</td>\n",
       "      <td>38.216891</td>\n",
       "      <td>1</td>\n",
       "    </tr>\n",
       "    <tr>\n",
       "      <th>999</th>\n",
       "      <td>75.725828</td>\n",
       "      <td>46.275487</td>\n",
       "      <td>9.689482</td>\n",
       "      <td>31.803239</td>\n",
       "      <td>0</td>\n",
       "    </tr>\n",
       "  </tbody>\n",
       "</table>\n",
       "<p>1000 rows × 5 columns</p>\n",
       "</div>"
      ],
      "text/plain": [
       "     Temperature  Vibration  Power_Usage   Humidity  Failure_Risk\n",
       "0      74.967142  56.996777     8.649643  20.460962             1\n",
       "1      68.617357  54.623168     9.710963  25.698075             0\n",
       "2      76.476885  50.298152     8.415160  27.931972             1\n",
       "3      85.230299  46.765316     9.384077  39.438438             1\n",
       "4      67.658466  53.491117     6.212771  32.782766             1\n",
       "..           ...        ...          ...        ...           ...\n",
       "995    67.188997  55.350751    10.154961  30.142288             1\n",
       "996    87.976865  49.867394    10.515505  19.610941             0\n",
       "997    76.408429  45.590627     7.516479  28.398511             0\n",
       "998    64.288210  49.184665    10.668353  38.216891             1\n",
       "999    75.725828  46.275487     9.689482  31.803239             0\n",
       "\n",
       "[1000 rows x 5 columns]"
      ]
     },
     "execution_count": 12,
     "metadata": {},
     "output_type": "execute_result"
    }
   ],
   "source": [
    "Col_numericas = Mfail.select_dtypes(include=[\"float64\",\"int64\"])\n",
    "Col_numericas"
   ]
  },
  {
   "cell_type": "code",
   "execution_count": 13,
   "id": "1a84300a-8ee6-4cc5-bee7-c764c7228fae",
   "metadata": {},
   "outputs": [
    {
     "data": {
      "image/png": "[encoded data removed]",
      "text/plain": [
       "<Figure size 1200x800 with 2 Axes>"
      ]
     },
     "metadata": {},
     "output_type": "display_data"
    }
   ],
   "source": [
    "plt.figure(figsize=(12, 8))\n",
    "matriz_correlacion = Col_numericas.corr()\n",
    "sns.heatmap(matriz_correlacion, annot=True, cmap=\"coolwarm\", fmt=\".2f\", linewidths=0.5, vmin=-1, vmax=1)\n",
    "plt.title(\"Matriz de Correlación entre variables numéricas\", fontsize=14)\n",
    "plt.xticks(rotation=45)\n",
    "plt.yticks(rotation=0)\n",
    "plt.show()"
   ]
  },
  {
   "cell_type": "markdown",
   "id": "b8a0e9e4-09cf-43a2-98d7-1c2cca3f0dd6",
   "metadata": {},
   "source": [
    "## Variables con mayor correlación"
   ]
  },
  {
   "cell_type": "code",
   "execution_count": 14,
   "id": "dbf9758a-1247-49a4-bf74-ddb68942c581",
   "metadata": {},
   "outputs": [
    {
     "name": "stdout",
     "output_type": "stream",
     "text": [
      "Series([], dtype: float64)\n"
     ]
    }
   ],
   "source": [
    "pares_Cor = matriz_correlacion.unstack().sort_values(ascending=False) # Con esto obtengo los pares de correlación obasoluta de modo ordenado\n",
    "\n",
    "correlaciones = pares_Cor[(pares_Cor < 1) & (pares_Cor > 0.6)] #Esto solo filta correlaciones altas\n",
    "\n",
    "print(correlaciones)\n"
   ]
  },
  {
   "cell_type": "markdown",
   "id": "a61c8ef4-c0e0-4358-9549-54bcababba0d",
   "metadata": {},
   "source": [
    "Lo anterior nos dice que las variables que tenemos no tienen una relación lineal, pero podrian tener una relación de otro tipo. Por lo tanto voy a usar las correlaciones Spearman, kendell y graficos de dispersión para encontrar otro tipo de relación."
   ]
  },
  {
   "cell_type": "markdown",
   "id": "612c7e2d-d527-49bb-a07e-2d90fce04402",
   "metadata": {},
   "source": [
    "# Correlación de Spearman"
   ]
  },
  {
   "cell_type": "markdown",
   "id": "15244a34-0b90-43df-88cb-6c6a87203b89",
   "metadata": {},
   "source": [
    "Para poder usar la correlación de Spearman, voy a usar Label Encoding para transformar \"Machine Type\" en valores númericos."
   ]
  },
  {
   "cell_type": "code",
   "execution_count": 15,
   "id": "4da014df-4fd3-476e-b088-bf1c6333f237",
   "metadata": {},
   "outputs": [],
   "source": [
    "from sklearn.preprocessing import LabelEncoder\n",
    "\n",
    "encoder = LabelEncoder()\n",
    "if \"Machine_Type\" in Mfail.columns:  # Verificar que la columna exista\n",
    "    Mfail[\"Machine_Type\"] = encoder.fit_transform(Mfail[\"Machine_Type\"])\n",
    "\n"
   ]
  },
  {
   "cell_type": "code",
   "execution_count": 16,
   "id": "a49b1c0a-1634-4d57-9864-8d950f129feb",
   "metadata": {},
   "outputs": [
    {
     "name": "stdout",
     "output_type": "stream",
     "text": [
      "Temperature     float64\n",
      "Vibration       float64\n",
      "Power_Usage     float64\n",
      "Humidity        float64\n",
      "Machine_Type      int32\n",
      "Failure_Risk      int64\n",
      "dtype: object\n"
     ]
    }
   ],
   "source": [
    "print(Mfail.dtypes)"
   ]
  },
  {
   "cell_type": "code",
   "execution_count": 17,
   "id": "7fc478ee-d2eb-459f-ae8d-195f1a8727df",
   "metadata": {},
   "outputs": [
    {
     "data": {
      "text/html": [
       "<div>\n",
       "<style scoped>\n",
       "    .dataframe tbody tr th:only-of-type {\n",
       "        vertical-align: middle;\n",
       "    }\n",
       "\n",
       "    .dataframe tbody tr th {\n",
       "        vertical-align: top;\n",
       "    }\n",
       "\n",
       "    .dataframe thead th {\n",
       "        text-align: right;\n",
       "    }\n",
       "</style>\n",
       "<table border=\"1\" class=\"dataframe\">\n",
       "  <thead>\n",
       "    <tr style=\"text-align: right;\">\n",
       "      <th></th>\n",
       "      <th>Temperature</th>\n",
       "      <th>Vibration</th>\n",
       "      <th>Power_Usage</th>\n",
       "      <th>Humidity</th>\n",
       "      <th>Machine_Type</th>\n",
       "      <th>Failure_Risk</th>\n",
       "    </tr>\n",
       "  </thead>\n",
       "  <tbody>\n",
       "    <tr>\n",
       "      <th>Temperature</th>\n",
       "      <td>1.000000</td>\n",
       "      <td>-0.063765</td>\n",
       "      <td>0.036477</td>\n",
       "      <td>-0.004736</td>\n",
       "      <td>-0.001476</td>\n",
       "      <td>0.038643</td>\n",
       "    </tr>\n",
       "    <tr>\n",
       "      <th>Vibration</th>\n",
       "      <td>-0.063765</td>\n",
       "      <td>1.000000</td>\n",
       "      <td>-0.009203</td>\n",
       "      <td>-0.055589</td>\n",
       "      <td>0.050870</td>\n",
       "      <td>-0.005405</td>\n",
       "    </tr>\n",
       "    <tr>\n",
       "      <th>Power_Usage</th>\n",
       "      <td>0.036477</td>\n",
       "      <td>-0.009203</td>\n",
       "      <td>1.000000</td>\n",
       "      <td>0.027426</td>\n",
       "      <td>-0.046736</td>\n",
       "      <td>0.021529</td>\n",
       "    </tr>\n",
       "    <tr>\n",
       "      <th>Humidity</th>\n",
       "      <td>-0.004736</td>\n",
       "      <td>-0.055589</td>\n",
       "      <td>0.027426</td>\n",
       "      <td>1.000000</td>\n",
       "      <td>-0.010524</td>\n",
       "      <td>-0.014083</td>\n",
       "    </tr>\n",
       "    <tr>\n",
       "      <th>Machine_Type</th>\n",
       "      <td>-0.001476</td>\n",
       "      <td>0.050870</td>\n",
       "      <td>-0.046736</td>\n",
       "      <td>-0.010524</td>\n",
       "      <td>1.000000</td>\n",
       "      <td>-0.029996</td>\n",
       "    </tr>\n",
       "    <tr>\n",
       "      <th>Failure_Risk</th>\n",
       "      <td>0.038643</td>\n",
       "      <td>-0.005405</td>\n",
       "      <td>0.021529</td>\n",
       "      <td>-0.014083</td>\n",
       "      <td>-0.029996</td>\n",
       "      <td>1.000000</td>\n",
       "    </tr>\n",
       "  </tbody>\n",
       "</table>\n",
       "</div>"
      ],
      "text/plain": [
       "              Temperature  Vibration  Power_Usage  Humidity  Machine_Type  \\\n",
       "Temperature      1.000000  -0.063765     0.036477 -0.004736     -0.001476   \n",
       "Vibration       -0.063765   1.000000    -0.009203 -0.055589      0.050870   \n",
       "Power_Usage      0.036477  -0.009203     1.000000  0.027426     -0.046736   \n",
       "Humidity        -0.004736  -0.055589     0.027426  1.000000     -0.010524   \n",
       "Machine_Type    -0.001476   0.050870    -0.046736 -0.010524      1.000000   \n",
       "Failure_Risk     0.038643  -0.005405     0.021529 -0.014083     -0.029996   \n",
       "\n",
       "              Failure_Risk  \n",
       "Temperature       0.038643  \n",
       "Vibration        -0.005405  \n",
       "Power_Usage       0.021529  \n",
       "Humidity         -0.014083  \n",
       "Machine_Type     -0.029996  \n",
       "Failure_Risk      1.000000  "
      ]
     },
     "execution_count": 17,
     "metadata": {},
     "output_type": "execute_result"
    }
   ],
   "source": [
    "Mfail.corr(method='spearman')"
   ]
  },
  {
   "cell_type": "markdown",
   "id": "81f0ab04-db9e-43c9-a577-f4054a3cf82d",
   "metadata": {},
   "source": [
    "Utilizando la correlación de Spearman observamos que no existe relacion alguna, por lo tanto pasaremos a utilizar la siguiente correlación, la correlacion de Kendall"
   ]
  },
  {
   "cell_type": "code",
   "execution_count": 18,
   "id": "a41f13ff-92e5-4e69-b717-f81093b97bb0",
   "metadata": {},
   "outputs": [
    {
     "data": {
      "text/html": [
       "<div>\n",
       "<style scoped>\n",
       "    .dataframe tbody tr th:only-of-type {\n",
       "        vertical-align: middle;\n",
       "    }\n",
       "\n",
       "    .dataframe tbody tr th {\n",
       "        vertical-align: top;\n",
       "    }\n",
       "\n",
       "    .dataframe thead th {\n",
       "        text-align: right;\n",
       "    }\n",
       "</style>\n",
       "<table border=\"1\" class=\"dataframe\">\n",
       "  <thead>\n",
       "    <tr style=\"text-align: right;\">\n",
       "      <th></th>\n",
       "      <th>Temperature</th>\n",
       "      <th>Vibration</th>\n",
       "      <th>Power_Usage</th>\n",
       "      <th>Humidity</th>\n",
       "      <th>Machine_Type</th>\n",
       "      <th>Failure_Risk</th>\n",
       "    </tr>\n",
       "  </thead>\n",
       "  <tbody>\n",
       "    <tr>\n",
       "      <th>Temperature</th>\n",
       "      <td>1.000000</td>\n",
       "      <td>-0.043828</td>\n",
       "      <td>0.023916</td>\n",
       "      <td>-0.003584</td>\n",
       "      <td>-0.000711</td>\n",
       "      <td>0.031568</td>\n",
       "    </tr>\n",
       "    <tr>\n",
       "      <th>Vibration</th>\n",
       "      <td>-0.043828</td>\n",
       "      <td>1.000000</td>\n",
       "      <td>-0.006266</td>\n",
       "      <td>-0.036889</td>\n",
       "      <td>0.039267</td>\n",
       "      <td>-0.004415</td>\n",
       "    </tr>\n",
       "    <tr>\n",
       "      <th>Power_Usage</th>\n",
       "      <td>0.023916</td>\n",
       "      <td>-0.006266</td>\n",
       "      <td>1.000000</td>\n",
       "      <td>0.018659</td>\n",
       "      <td>-0.035958</td>\n",
       "      <td>0.017587</td>\n",
       "    </tr>\n",
       "    <tr>\n",
       "      <th>Humidity</th>\n",
       "      <td>-0.003584</td>\n",
       "      <td>-0.036889</td>\n",
       "      <td>0.018659</td>\n",
       "      <td>1.000000</td>\n",
       "      <td>-0.007725</td>\n",
       "      <td>-0.011504</td>\n",
       "    </tr>\n",
       "    <tr>\n",
       "      <th>Machine_Type</th>\n",
       "      <td>-0.000711</td>\n",
       "      <td>0.039267</td>\n",
       "      <td>-0.035958</td>\n",
       "      <td>-0.007725</td>\n",
       "      <td>1.000000</td>\n",
       "      <td>-0.028280</td>\n",
       "    </tr>\n",
       "    <tr>\n",
       "      <th>Failure_Risk</th>\n",
       "      <td>0.031568</td>\n",
       "      <td>-0.004415</td>\n",
       "      <td>0.017587</td>\n",
       "      <td>-0.011504</td>\n",
       "      <td>-0.028280</td>\n",
       "      <td>1.000000</td>\n",
       "    </tr>\n",
       "  </tbody>\n",
       "</table>\n",
       "</div>"
      ],
      "text/plain": [
       "              Temperature  Vibration  Power_Usage  Humidity  Machine_Type  \\\n",
       "Temperature      1.000000  -0.043828     0.023916 -0.003584     -0.000711   \n",
       "Vibration       -0.043828   1.000000    -0.006266 -0.036889      0.039267   \n",
       "Power_Usage      0.023916  -0.006266     1.000000  0.018659     -0.035958   \n",
       "Humidity        -0.003584  -0.036889     0.018659  1.000000     -0.007725   \n",
       "Machine_Type    -0.000711   0.039267    -0.035958 -0.007725      1.000000   \n",
       "Failure_Risk     0.031568  -0.004415     0.017587 -0.011504     -0.028280   \n",
       "\n",
       "              Failure_Risk  \n",
       "Temperature       0.031568  \n",
       "Vibration        -0.004415  \n",
       "Power_Usage       0.017587  \n",
       "Humidity         -0.011504  \n",
       "Machine_Type     -0.028280  \n",
       "Failure_Risk      1.000000  "
      ]
     },
     "execution_count": 18,
     "metadata": {},
     "output_type": "execute_result"
    }
   ],
   "source": [
    "Mfail.corr(method='kendall')"
   ]
  },
  {
   "cell_type": "markdown",
   "id": "c37e9dd9-f009-4f10-9809-cc8f0aae1083",
   "metadata": {},
   "source": [
    "En vista de que con este metodo no se encontro ninguna relación, pasare a la opción de utilizar algun modelo de machine learning para encontrar alguna relación en el modelo."
   ]
  },
  {
   "cell_type": "markdown",
   "id": "97d8003b-99b4-484b-bb92-1ee3308ad2b0",
   "metadata": {},
   "source": [
    "## Pruebas de modelos\n"
   ]
  },
  {
   "cell_type": "markdown",
   "id": "f3ab2c10-6c70-43dc-bed3-2f93a16d06e6",
   "metadata": {},
   "source": [
    "# Random Forest"
   ]
  },
  {
   "cell_type": "code",
   "execution_count": 19,
   "id": "bf7eb357-7941-4074-9dbe-a8125e2c4a05",
   "metadata": {},
   "outputs": [],
   "source": [
    "from sklearn.preprocessing import LabelEncoder\n",
    "#Esta libreria se usa para convertir los datos categoricos de \"Machine_Type\" en datos númericos"
   ]
  },
  {
   "cell_type": "code",
   "execution_count": 20,
   "id": "2f62a5ac-5281-4d3d-b49f-1ac0dcc118bb",
   "metadata": {},
   "outputs": [
    {
     "name": "stdout",
     "output_type": "stream",
     "text": [
      "Machine_Type\n",
      "1    338\n",
      "0    334\n",
      "2    328\n",
      "Name: count, dtype: int64\n"
     ]
    }
   ],
   "source": [
    "#Esto es para convertir las diferentes variables de \"Machine_Type\" en variables numericas\n",
    "encoder = LabelEncoder()\n",
    "Mfail[\"Machine_Type\"] = encoder.fit_transform(Mfail[\"Machine_Type\"])\n",
    "print(Mfail[\"Machine_Type\"].value_counts())"
   ]
  },
  {
   "cell_type": "code",
   "execution_count": 21,
   "id": "1a5bf8e2-1db4-4f0f-9b7c-fc53dc5fec0c",
   "metadata": {},
   "outputs": [],
   "source": [
    "from sklearn.ensemble import RandomForestClassifier\n",
    "from sklearn.model_selection import train_test_split\n",
    "from sklearn.metrics import accuracy_score, classification_report"
   ]
  },
  {
   "cell_type": "code",
   "execution_count": 22,
   "id": "56ca6813-81c9-45a6-b7ec-bf15f34e3d95",
   "metadata": {},
   "outputs": [],
   "source": [
    "X = Mfail.drop(columns=['Failure_Risk']) #Aqui se toman todos los valores del dataset, con excepción de la columna Failure_Risk\n",
    "y = Mfail['Failure_Risk']"
   ]
  },
  {
   "cell_type": "code",
   "execution_count": 23,
   "id": "fe5c73c2-1874-4a02-a30d-e13cd7643073",
   "metadata": {},
   "outputs": [],
   "source": [
    "#Aquí se dividen las variables de entrenamiento y prueba\n",
    "X_train, X_test, y_train, y_test = train_test_split(X, y, test_size=0.2, random_state=42)"
   ]
  },
  {
   "cell_type": "code",
   "execution_count": 24,
   "id": "255f1489-d4f6-49f3-8da2-1252b16b51a4",
   "metadata": {},
   "outputs": [
    {
     "data": {
      "text/html": [
       "<style>#sk-container-id-1 {\n",
       "  /* Definition of color scheme common for light and dark mode */\n",
       "  --sklearn-color-text: black;\n",
       "  --sklearn-color-line: gray;\n",
       "  /* Definition of color scheme for unfitted estimators */\n",
       "  --sklearn-color-unfitted-level-0: #fff5e6;\n",
       "  --sklearn-color-unfitted-level-1: #f6e4d2;\n",
       "  --sklearn-color-unfitted-level-2: #ffe0b3;\n",
       "  --sklearn-color-unfitted-level-3: chocolate;\n",
       "  /* Definition of color scheme for fitted estimators */\n",
       "  --sklearn-color-fitted-level-0: #f0f8ff;\n",
       "  --sklearn-color-fitted-level-1: #d4ebff;\n",
       "  --sklearn-color-fitted-level-2: #b3dbfd;\n",
       "  --sklearn-color-fitted-level-3: cornflowerblue;\n",
       "\n",
       "  /* Specific color for light theme */\n",
       "  --sklearn-color-text-on-default-background: var(--sg-text-color, var(--theme-code-foreground, var(--jp-content-font-color1, black)));\n",
       "  --sklearn-color-background: var(--sg-background-color, var(--theme-background, var(--jp-layout-color0, white)));\n",
       "  --sklearn-color-border-box: var(--sg-text-color, var(--theme-code-foreground, var(--jp-content-font-color1, black)));\n",
       "  --sklearn-color-icon: #696969;\n",
       "\n",
       "  @media (prefers-color-scheme: dark) {\n",
       "    /* Redefinition of color scheme for dark theme */\n",
       "    --sklearn-color-text-on-default-background: var(--sg-text-color, var(--theme-code-foreground, var(--jp-content-font-color1, white)));\n",
       "    --sklearn-color-background: var(--sg-background-color, var(--theme-background, var(--jp-layout-color0, #111)));\n",
       "    --sklearn-color-border-box: var(--sg-text-color, var(--theme-code-foreground, var(--jp-content-font-color1, white)));\n",
       "    --sklearn-color-icon: #878787;\n",
       "  }\n",
       "}\n",
       "\n",
       "#sk-container-id-1 {\n",
       "  color: var(--sklearn-color-text);\n",
       "}\n",
       "\n",
       "#sk-container-id-1 pre {\n",
       "  padding: 0;\n",
       "}\n",
       "\n",
       "#sk-container-id-1 input.sk-hidden--visually {\n",
       "  border: 0;\n",
       "  clip: rect(1px 1px 1px 1px);\n",
       "  clip: rect(1px, 1px, 1px, 1px);\n",
       "  height: 1px;\n",
       "  margin: -1px;\n",
       "  overflow: hidden;\n",
       "  padding: 0;\n",
       "  position: absolute;\n",
       "  width: 1px;\n",
       "}\n",
       "\n",
       "#sk-container-id-1 div.sk-dashed-wrapped {\n",
       "  border: 1px dashed var(--sklearn-color-line);\n",
       "  margin: 0 0.4em 0.5em 0.4em;\n",
       "  box-sizing: border-box;\n",
       "  padding-bottom: 0.4em;\n",
       "  background-color: var(--sklearn-color-background);\n",
       "}\n",
       "\n",
       "#sk-container-id-1 div.sk-container {\n",
       "  /* jupyter's `normalize.less` sets `[hidden] { display: none; }`\n",
       "     but bootstrap.min.css set `[hidden] { display: none !important; }`\n",
       "     so we also need the `!important` here to be able to override the\n",
       "     default hidden behavior on the sphinx rendered scikit-learn.org.\n",
       "     See: https://github.com/scikit-learn/scikit-learn/issues/21755 */\n",
       "  display: inline-block !important;\n",
       "  position: relative;\n",
       "}\n",
       "\n",
       "#sk-container-id-1 div.sk-text-repr-fallback {\n",
       "  display: none;\n",
       "}\n",
       "\n",
       "div.sk-parallel-item,\n",
       "div.sk-serial,\n",
       "div.sk-item {\n",
       "  /* draw centered vertical line to link estimators */\n",
       "  background-image: linear-gradient(var(--sklearn-color-text-on-default-background), var(--sklearn-color-text-on-default-background));\n",
       "  background-size: 2px 100%;\n",
       "  background-repeat: no-repeat;\n",
       "  background-position: center center;\n",
       "}\n",
       "\n",
       "/* Parallel-specific style estimator block */\n",
       "\n",
       "#sk-container-id-1 div.sk-parallel-item::after {\n",
       "  content: \"\";\n",
       "  width: 100%;\n",
       "  border-bottom: 2px solid var(--sklearn-color-text-on-default-background);\n",
       "  flex-grow: 1;\n",
       "}\n",
       "\n",
       "#sk-container-id-1 div.sk-parallel {\n",
       "  display: flex;\n",
       "  align-items: stretch;\n",
       "  justify-content: center;\n",
       "  background-color: var(--sklearn-color-background);\n",
       "  position: relative;\n",
       "}\n",
       "\n",
       "#sk-container-id-1 div.sk-parallel-item {\n",
       "  display: flex;\n",
       "  flex-direction: column;\n",
       "}\n",
       "\n",
       "#sk-container-id-1 div.sk-parallel-item:first-child::after {\n",
       "  align-self: flex-end;\n",
       "  width: 50%;\n",
       "}\n",
       "\n",
       "#sk-container-id-1 div.sk-parallel-item:last-child::after {\n",
       "  align-self: flex-start;\n",
       "  width: 50%;\n",
       "}\n",
       "\n",
       "#sk-container-id-1 div.sk-parallel-item:only-child::after {\n",
       "  width: 0;\n",
       "}\n",
       "\n",
       "/* Serial-specific style estimator block */\n",
       "\n",
       "#sk-container-id-1 div.sk-serial {\n",
       "  display: flex;\n",
       "  flex-direction: column;\n",
       "  align-items: center;\n",
       "  background-color: var(--sklearn-color-background);\n",
       "  padding-right: 1em;\n",
       "  padding-left: 1em;\n",
       "}\n",
       "\n",
       "\n",
       "/* Toggleable style: style used for estimator/Pipeline/ColumnTransformer box that is\n",
       "clickable and can be expanded/collapsed.\n",
       "- Pipeline and ColumnTransformer use this feature and define the default style\n",
       "- Estimators will overwrite some part of the style using the `sk-estimator` class\n",
       "*/\n",
       "\n",
       "/* Pipeline and ColumnTransformer style (default) */\n",
       "\n",
       "#sk-container-id-1 div.sk-toggleable {\n",
       "  /* Default theme specific background. It is overwritten whether we have a\n",
       "  specific estimator or a Pipeline/ColumnTransformer */\n",
       "  background-color: var(--sklearn-color-background);\n",
       "}\n",
       "\n",
       "/* Toggleable label */\n",
       "#sk-container-id-1 label.sk-toggleable__label {\n",
       "  cursor: pointer;\n",
       "  display: block;\n",
       "  width: 100%;\n",
       "  margin-bottom: 0;\n",
       "  padding: 0.5em;\n",
       "  box-sizing: border-box;\n",
       "  text-align: center;\n",
       "}\n",
       "\n",
       "#sk-container-id-1 label.sk-toggleable__label-arrow:before {\n",
       "  /* Arrow on the left of the label */\n",
       "  content: \"▸\";\n",
       "  float: left;\n",
       "  margin-right: 0.25em;\n",
       "  color: var(--sklearn-color-icon);\n",
       "}\n",
       "\n",
       "#sk-container-id-1 label.sk-toggleable__label-arrow:hover:before {\n",
       "  color: var(--sklearn-color-text);\n",
       "}\n",
       "\n",
       "/* Toggleable content - dropdown */\n",
       "\n",
       "#sk-container-id-1 div.sk-toggleable__content {\n",
       "  max-height: 0;\n",
       "  max-width: 0;\n",
       "  overflow: hidden;\n",
       "  text-align: left;\n",
       "  /* unfitted */\n",
       "  background-color: var(--sklearn-color-unfitted-level-0);\n",
       "}\n",
       "\n",
       "#sk-container-id-1 div.sk-toggleable__content.fitted {\n",
       "  /* fitted */\n",
       "  background-color: var(--sklearn-color-fitted-level-0);\n",
       "}\n",
       "\n",
       "#sk-container-id-1 div.sk-toggleable__content pre {\n",
       "  margin: 0.2em;\n",
       "  border-radius: 0.25em;\n",
       "  color: var(--sklearn-color-text);\n",
       "  /* unfitted */\n",
       "  background-color: var(--sklearn-color-unfitted-level-0);\n",
       "}\n",
       "\n",
       "#sk-container-id-1 div.sk-toggleable__content.fitted pre {\n",
       "  /* unfitted */\n",
       "  background-color: var(--sklearn-color-fitted-level-0);\n",
       "}\n",
       "\n",
       "#sk-container-id-1 input.sk-toggleable__control:checked~div.sk-toggleable__content {\n",
       "  /* Expand drop-down */\n",
       "  max-height: 200px;\n",
       "  max-width: 100%;\n",
       "  overflow: auto;\n",
       "}\n",
       "\n",
       "#sk-container-id-1 input.sk-toggleable__control:checked~label.sk-toggleable__label-arrow:before {\n",
       "  content: \"▾\";\n",
       "}\n",
       "\n",
       "/* Pipeline/ColumnTransformer-specific style */\n",
       "\n",
       "#sk-container-id-1 div.sk-label input.sk-toggleable__control:checked~label.sk-toggleable__label {\n",
       "  color: var(--sklearn-color-text);\n",
       "  background-color: var(--sklearn-color-unfitted-level-2);\n",
       "}\n",
       "\n",
       "#sk-container-id-1 div.sk-label.fitted input.sk-toggleable__control:checked~label.sk-toggleable__label {\n",
       "  background-color: var(--sklearn-color-fitted-level-2);\n",
       "}\n",
       "\n",
       "/* Estimator-specific style */\n",
       "\n",
       "/* Colorize estimator box */\n",
       "#sk-container-id-1 div.sk-estimator input.sk-toggleable__control:checked~label.sk-toggleable__label {\n",
       "  /* unfitted */\n",
       "  background-color: var(--sklearn-color-unfitted-level-2);\n",
       "}\n",
       "\n",
       "#sk-container-id-1 div.sk-estimator.fitted input.sk-toggleable__control:checked~label.sk-toggleable__label {\n",
       "  /* fitted */\n",
       "  background-color: var(--sklearn-color-fitted-level-2);\n",
       "}\n",
       "\n",
       "#sk-container-id-1 div.sk-label label.sk-toggleable__label,\n",
       "#sk-container-id-1 div.sk-label label {\n",
       "  /* The background is the default theme color */\n",
       "  color: var(--sklearn-color-text-on-default-background);\n",
       "}\n",
       "\n",
       "/* On hover, darken the color of the background */\n",
       "#sk-container-id-1 div.sk-label:hover label.sk-toggleable__label {\n",
       "  color: var(--sklearn-color-text);\n",
       "  background-color: var(--sklearn-color-unfitted-level-2);\n",
       "}\n",
       "\n",
       "/* Label box, darken color on hover, fitted */\n",
       "#sk-container-id-1 div.sk-label.fitted:hover label.sk-toggleable__label.fitted {\n",
       "  color: var(--sklearn-color-text);\n",
       "  background-color: var(--sklearn-color-fitted-level-2);\n",
       "}\n",
       "\n",
       "/* Estimator label */\n",
       "\n",
       "#sk-container-id-1 div.sk-label label {\n",
       "  font-family: monospace;\n",
       "  font-weight: bold;\n",
       "  display: inline-block;\n",
       "  line-height: 1.2em;\n",
       "}\n",
       "\n",
       "#sk-container-id-1 div.sk-label-container {\n",
       "  text-align: center;\n",
       "}\n",
       "\n",
       "/* Estimator-specific */\n",
       "#sk-container-id-1 div.sk-estimator {\n",
       "  font-family: monospace;\n",
       "  border: 1px dotted var(--sklearn-color-border-box);\n",
       "  border-radius: 0.25em;\n",
       "  box-sizing: border-box;\n",
       "  margin-bottom: 0.5em;\n",
       "  /* unfitted */\n",
       "  background-color: var(--sklearn-color-unfitted-level-0);\n",
       "}\n",
       "\n",
       "#sk-container-id-1 div.sk-estimator.fitted {\n",
       "  /* fitted */\n",
       "  background-color: var(--sklearn-color-fitted-level-0);\n",
       "}\n",
       "\n",
       "/* on hover */\n",
       "#sk-container-id-1 div.sk-estimator:hover {\n",
       "  /* unfitted */\n",
       "  background-color: var(--sklearn-color-unfitted-level-2);\n",
       "}\n",
       "\n",
       "#sk-container-id-1 div.sk-estimator.fitted:hover {\n",
       "  /* fitted */\n",
       "  background-color: var(--sklearn-color-fitted-level-2);\n",
       "}\n",
       "\n",
       "/* Specification for estimator info (e.g. \"i\" and \"?\") */\n",
       "\n",
       "/* Common style for \"i\" and \"?\" */\n",
       "\n",
       ".sk-estimator-doc-link,\n",
       "a:link.sk-estimator-doc-link,\n",
       "a:visited.sk-estimator-doc-link {\n",
       "  float: right;\n",
       "  font-size: smaller;\n",
       "  line-height: 1em;\n",
       "  font-family: monospace;\n",
       "  background-color: var(--sklearn-color-background);\n",
       "  border-radius: 1em;\n",
       "  height: 1em;\n",
       "  width: 1em;\n",
       "  text-decoration: none !important;\n",
       "  margin-left: 1ex;\n",
       "  /* unfitted */\n",
       "  border: var(--sklearn-color-unfitted-level-1) 1pt solid;\n",
       "  color: var(--sklearn-color-unfitted-level-1);\n",
       "}\n",
       "\n",
       ".sk-estimator-doc-link.fitted,\n",
       "a:link.sk-estimator-doc-link.fitted,\n",
       "a:visited.sk-estimator-doc-link.fitted {\n",
       "  /* fitted */\n",
       "  border: var(--sklearn-color-fitted-level-1) 1pt solid;\n",
       "  color: var(--sklearn-color-fitted-level-1);\n",
       "}\n",
       "\n",
       "/* On hover */\n",
       "div.sk-estimator:hover .sk-estimator-doc-link:hover,\n",
       ".sk-estimator-doc-link:hover,\n",
       "div.sk-label-container:hover .sk-estimator-doc-link:hover,\n",
       ".sk-estimator-doc-link:hover {\n",
       "  /* unfitted */\n",
       "  background-color: var(--sklearn-color-unfitted-level-3);\n",
       "  color: var(--sklearn-color-background);\n",
       "  text-decoration: none;\n",
       "}\n",
       "\n",
       "div.sk-estimator.fitted:hover .sk-estimator-doc-link.fitted:hover,\n",
       ".sk-estimator-doc-link.fitted:hover,\n",
       "div.sk-label-container:hover .sk-estimator-doc-link.fitted:hover,\n",
       ".sk-estimator-doc-link.fitted:hover {\n",
       "  /* fitted */\n",
       "  background-color: var(--sklearn-color-fitted-level-3);\n",
       "  color: var(--sklearn-color-background);\n",
       "  text-decoration: none;\n",
       "}\n",
       "\n",
       "/* Span, style for the box shown on hovering the info icon */\n",
       ".sk-estimator-doc-link span {\n",
       "  display: none;\n",
       "  z-index: 9999;\n",
       "  position: relative;\n",
       "  font-weight: normal;\n",
       "  right: .2ex;\n",
       "  padding: .5ex;\n",
       "  margin: .5ex;\n",
       "  width: min-content;\n",
       "  min-width: 20ex;\n",
       "  max-width: 50ex;\n",
       "  color: var(--sklearn-color-text);\n",
       "  box-shadow: 2pt 2pt 4pt #999;\n",
       "  /* unfitted */\n",
       "  background: var(--sklearn-color-unfitted-level-0);\n",
       "  border: .5pt solid var(--sklearn-color-unfitted-level-3);\n",
       "}\n",
       "\n",
       ".sk-estimator-doc-link.fitted span {\n",
       "  /* fitted */\n",
       "  background: var(--sklearn-color-fitted-level-0);\n",
       "  border: var(--sklearn-color-fitted-level-3);\n",
       "}\n",
       "\n",
       ".sk-estimator-doc-link:hover span {\n",
       "  display: block;\n",
       "}\n",
       "\n",
       "/* \"?\"-specific style due to the `<a>` HTML tag */\n",
       "\n",
       "#sk-container-id-1 a.estimator_doc_link {\n",
       "  float: right;\n",
       "  font-size: 1rem;\n",
       "  line-height: 1em;\n",
       "  font-family: monospace;\n",
       "  background-color: var(--sklearn-color-background);\n",
       "  border-radius: 1rem;\n",
       "  height: 1rem;\n",
       "  width: 1rem;\n",
       "  text-decoration: none;\n",
       "  /* unfitted */\n",
       "  color: var(--sklearn-color-unfitted-level-1);\n",
       "  border: var(--sklearn-color-unfitted-level-1) 1pt solid;\n",
       "}\n",
       "\n",
       "#sk-container-id-1 a.estimator_doc_link.fitted {\n",
       "  /* fitted */\n",
       "  border: var(--sklearn-color-fitted-level-1) 1pt solid;\n",
       "  color: var(--sklearn-color-fitted-level-1);\n",
       "}\n",
       "\n",
       "/* On hover */\n",
       "#sk-container-id-1 a.estimator_doc_link:hover {\n",
       "  /* unfitted */\n",
       "  background-color: var(--sklearn-color-unfitted-level-3);\n",
       "  color: var(--sklearn-color-background);\n",
       "  text-decoration: none;\n",
       "}\n",
       "\n",
       "#sk-container-id-1 a.estimator_doc_link.fitted:hover {\n",
       "  /* fitted */\n",
       "  background-color: var(--sklearn-color-fitted-level-3);\n",
       "}\n",
       "</style><div id=\"sk-container-id-1\" class=\"sk-top-container\"><div class=\"sk-text-repr-fallback\"><pre>RandomForestClassifier(class_weight=&#x27;balanced&#x27;, random_state=42)</pre><b>In a Jupyter environment, please rerun this cell to show the HTML representation or trust the notebook. <br />On GitHub, the HTML representation is unable to render, please try loading this page with nbviewer.org.</b></div><div class=\"sk-container\" hidden><div class=\"sk-item\"><div class=\"sk-estimator fitted sk-toggleable\"><input class=\"sk-toggleable__control sk-hidden--visually\" id=\"sk-estimator-id-1\" type=\"checkbox\" checked><label for=\"sk-estimator-id-1\" class=\"sk-toggleable__label fitted sk-toggleable__label-arrow fitted\">&nbsp;&nbsp;RandomForestClassifier<a class=\"sk-estimator-doc-link fitted\" rel=\"noreferrer\" target=\"_blank\" href=\"https://scikit-learn.org/1.5/modules/generated/sklearn.ensemble.RandomForestClassifier.html\">?<span>Documentation for RandomForestClassifier</span></a><span class=\"sk-estimator-doc-link fitted\">i<span>Fitted</span></span></label><div class=\"sk-toggleable__content fitted\"><pre>RandomForestClassifier(class_weight=&#x27;balanced&#x27;, random_state=42)</pre></div> </div></div></div></div>"
      ],
      "text/plain": [
       "RandomForestClassifier(class_weight='balanced', random_state=42)"
      ]
     },
     "execution_count": 24,
     "metadata": {},
     "output_type": "execute_result"
    }
   ],
   "source": [
    "#Ahora se crea el modelo de entrenamiento\n",
    "clf = RandomForestClassifier(n_estimators=100, class_weight='balanced', random_state=42)\n",
    "clf.fit(X_train, y_train)"
   ]
  },
  {
   "cell_type": "code",
   "execution_count": 25,
   "id": "aa8cfed1-a695-4529-9538-733c60c2aa71",
   "metadata": {},
   "outputs": [
    {
     "name": "stdout",
     "output_type": "stream",
     "text": [
      "Precisión: 0.63\n",
      "              precision    recall  f1-score   support\n",
      "\n",
      "           0       0.66      0.91      0.77       135\n",
      "           1       0.20      0.05      0.07        65\n",
      "\n",
      "    accuracy                           0.63       200\n",
      "   macro avg       0.43      0.48      0.42       200\n",
      "weighted avg       0.51      0.63      0.54       200\n",
      "\n",
      "\n",
      "Importancia de características:\n",
      "Temperature     0.240728\n",
      "Vibration       0.238186\n",
      "Humidity        0.236708\n",
      "Power_Usage     0.233204\n",
      "Machine_Type    0.051172\n",
      "dtype: float64\n"
     ]
    }
   ],
   "source": [
    "# Hacer predicciones\n",
    "y_pred = clf.predict(X_test)\n",
    "\n",
    "# Evaluar el modelo\n",
    "accuracy = accuracy_score(y_test, y_pred)\n",
    "print(f'Precisión: {accuracy:.2f}')\n",
    "print(classification_report(y_test, y_pred))\n",
    "\n",
    "# Mostrar importancia de variables\n",
    "importances = pd.Series(clf.feature_importances_, index=X.columns)\n",
    "print(\"\\nImportancia de características:\")\n",
    "print(importances.sort_values(ascending=False))\n"
   ]
  },
  {
   "cell_type": "code",
   "execution_count": null,
   "id": "92a180ff-fefc-4a72-82c2-a72e81e1f40a",
   "metadata": {},
   "outputs": [],
   "source": []
  },
  {
   "cell_type": "markdown",
   "id": "170d1cae-e62c-4480-8c59-540a321adaf4",
   "metadata": {},
   "source": [
    "## Codigo probando SMOTE(Oversampling)"
   ]
  },
  {
   "cell_type": "code",
   "execution_count": 26,
   "id": "d027ec42-ffa2-4b6c-bb38-63112eb1b632",
   "metadata": {},
   "outputs": [
    {
     "name": "stdout",
     "output_type": "stream",
     "text": [
      "Precisión: 0.69\n",
      "              precision    recall  f1-score   support\n",
      "\n",
      "           0       0.72      0.67      0.69       148\n",
      "           1       0.66      0.71      0.68       132\n",
      "\n",
      "    accuracy                           0.69       280\n",
      "   macro avg       0.69      0.69      0.69       280\n",
      "weighted avg       0.69      0.69      0.69       280\n",
      "\n",
      "\n",
      "Importancia de características:\n",
      "Vibration       0.247316\n",
      "Temperature     0.242323\n",
      "Power_Usage     0.228276\n",
      "Humidity        0.225325\n",
      "Machine_Type    0.056759\n",
      "dtype: float64\n"
     ]
    }
   ],
   "source": [
    "from imblearn.over_sampling import SMOTE\n",
    "\n",
    "\n",
    "# Aplicar SMOTE para balancear clases\n",
    "smote = SMOTE(random_state=42)\n",
    "X_resampled, y_resampled = smote.fit_resample(X, y)\n",
    "\n",
    "# Dividir datos balanceados en entrenamiento y prueba\n",
    "X_train, X_test, y_train, y_test = train_test_split(X_resampled, y_resampled, test_size=0.2, random_state=42)\n",
    "\n",
    "# Crear y entrenar el modelo\n",
    "clf = RandomForestClassifier(n_estimators=100, random_state=42)\n",
    "clf.fit(X_train, y_train)\n",
    "\n",
    "# Hacer predicciones\n",
    "y_pred = clf.predict(X_test)\n",
    "\n",
    "# Evaluar el modelo\n",
    "accuracy = accuracy_score(y_test, y_pred)\n",
    "print(f'Precisión: {accuracy:.2f}')\n",
    "print(classification_report(y_test, y_pred))\n",
    "\n",
    "# Importancia de variables\n",
    "importances = pd.Series(clf.feature_importances_, index=X.columns)\n",
    "print(\"\\nImportancia de características:\")\n",
    "print(importances.sort_values(ascending=False))\n"
   ]
  },
  {
   "cell_type": "code",
   "execution_count": null,
   "id": "06269800-71e3-4952-9960-44d5544f198c",
   "metadata": {},
   "outputs": [],
   "source": []
  },
  {
   "cell_type": "markdown",
   "id": "7a4938bf-bf0c-44a6-b138-a1b5a3bcc687",
   "metadata": {},
   "source": [
    "## Posible uso"
   ]
  },
  {
   "cell_type": "markdown",
   "id": "6e4652b0-44d5-474f-b8ac-b7a35956543c",
   "metadata": {},
   "source": [
    "Un posible uso para este modelo puede ser utilizarlo para predecir observaciones en tiempo real"
   ]
  },
  {
   "cell_type": "raw",
   "id": "02604b5a-0487-45cf-8d79-bef0cb44c935",
   "metadata": {},
   "source": [
    "# Datos nuevos de ejemplo (debe tener las mismas columnas que X_rf)\n",
    "new_data = pd.DataFrame({\n",
    "    'Temperature': [70],\n",
    "    'Vibration': [50],\n",
    "    'Power_Usage': [9],\n",
    "    'Humidity': [25],\n",
    "    'Machine_Type': ['Mill']\n",
    "})\n",
    "\n",
    "# Si 'Machine_Type' es categórica, hay que convertirla de nuevo a números\n",
    "new_data_encoded = pd.get_dummies(new_data, columns=['Machine_Type'])\n",
    "\n",
    "# Predecir si habrá falla (1) o no (0)\n",
    "prediction = clf.predict(new_data_encoded)\n",
    "print(f\"Predicción de Falla: {prediction[0]}\")  # 1 = Falla, 0 = No falla\n"
   ]
  },
  {
   "cell_type": "markdown",
   "id": "c5cfeb1f-d370-42dd-8364-21f0f274f398",
   "metadata": {},
   "source": [
    "Predicción usando probabilidades"
   ]
  },
  {
   "cell_type": "raw",
   "id": "f1a13cd9-31fe-4212-ae0b-498df4f71795",
   "metadata": {},
   "source": [
    "# Predicción de probabilidades para los datos nuevos\n",
    "probabilities = clf.predict_proba(new_data_encoded)\n",
    "prob_falla = probabilities[0][1]  # Probabilidad de que sea clase 1 (falla)\n",
    "\n",
    "print(f\"Probabilidad de Falla: {prob_falla:.2f}\")\n",
    "\n",
    "# Si la probabilidad es mayor que un umbral, indicar falla\n",
    "if prob_falla > 0.7:\n",
    "    print(\"La máquina tiene un alto riesgo de falla.\")\n",
    "else:\n",
    "    print(\"La máquina no tiene un alto riesgo de falla.\")\n"
   ]
  },
  {
   "cell_type": "code",
   "execution_count": null,
   "id": "46339ade-9f10-46c6-bfb5-928695ca2946",
   "metadata": {},
   "outputs": [],
   "source": []
  },
  {
   "cell_type": "code",
   "execution_count": null,
   "id": "e12c221e-f7bf-4117-acec-1cf809f01560",
   "metadata": {},
   "outputs": [],
   "source": []
  },
  {
   "cell_type": "code",
   "execution_count": null,
   "id": "7e09c379-2c0f-4c11-85fd-78ef8ee1495d",
   "metadata": {},
   "outputs": [],
   "source": []
  },
  {
   "cell_type": "code",
   "execution_count": 27,
   "id": "93984e56-bc9d-4984-9305-0830003b15db",
   "metadata": {},
   "outputs": [
    {
     "data": {
      "text/plain": [
       "'C:\\\\Users\\\\Farsa\\\\DataSets\\\\Machine failure Classification using sensor'"
      ]
     },
     "execution_count": 27,
     "metadata": {},
     "output_type": "execute_result"
    }
   ],
   "source": [
    "import os\n",
    "os.getcwd()\n"
   ]
  }
 ],
 "metadata": {
  "kernelspec": {
   "display_name": "Python 3 (ipykernel)",
   "language": "python",
   "name": "python3"
  },
  "language_info": {
   "codemirror_mode": {
    "name": "ipython",
    "version": 3
   },
   "file_extension": ".py",
   "mimetype": "text/x-python",
   "name": "python",
   "nbconvert_exporter": "python",
   "pygments_lexer": "ipython3",
   "version": "3.12.4"
  }
 },
 "nbformat": 4,
 "nbformat_minor": 5
}
